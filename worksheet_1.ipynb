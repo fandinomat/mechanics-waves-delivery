{
 "cells": [
  {
   "cell_type": "markdown",
   "id": "3e9a4bab-fd29-4373-96f1-8d4ac239112a",
   "metadata": {},
   "source": [
    "<img src=\"TRU_Logo_Horizontal_RGB-colour37470.png\" width=600 />\n",
    "<!-- The line above is html code. This line is html comment, it won't affect the output -->\n",
    "\n",
    "# Physics 1150 - Mechanics and Waves\n",
    "## Worksheet 1 - More Python arrays."
   ]
  },
  {
   "cell_type": "code",
   "execution_count": null,
   "id": "52e8998b-fb26-46f6-b19a-c2d45803164a",
   "metadata": {},
   "outputs": [],
   "source": [
    "import numpy as np\n",
    "import matplotlib.pyplot as plt"
   ]
  },
  {
   "cell_type": "code",
   "execution_count": null,
   "id": "02d1a5c3-2d69-4628-bccb-f172280cdc77",
   "metadata": {},
   "outputs": [],
   "source": [
    "run starter  # Just setting some plotting parameters."
   ]
  },
  {
   "cell_type": "markdown",
   "id": "a3382d65-50ab-4025-8c2a-5cfd48214442",
   "metadata": {},
   "source": [
    "In this worksheet, we will continue to learn new ways to use arrays (they are really useful!). In the next worksheet, we will apply this knowledge to calculating derivatives!"
   ]
  },
  {
   "cell_type": "markdown",
   "id": "2aee9e4a-2e57-45c5-8c04-5fe768668221",
   "metadata": {},
   "source": [
    "### Selecting entries of an array\n",
    "In the previous worksheet, we saw that we can create arrays, which are simply lists of numbers. We also saw that we can combine arrays and do all sorts of mathematical operations on them. These operations are carried out for each and all elements (entries or numbers) in the array.\n",
    "\n",
    "What if we don't want to do operations with all elements of the arry, but only a few ones? There are ways to select certain elements of an array to deal with this."
   ]
  },
  {
   "cell_type": "markdown",
   "id": "7c2ba2b9-08c6-42d4-9554-fb9d294e8061",
   "metadata": {},
   "source": [
    "### Selecting a single element\n",
    "If you need to select a single element on an array, you can easilly do so by using square brackets in front of the array and using the **index** of the element in the brackets. Here are a few examples:"
   ]
  },
  {
   "cell_type": "code",
   "execution_count": null,
   "id": "57633cce-d45b-4772-9692-388e11560c85",
   "metadata": {},
   "outputs": [],
   "source": [
    "a1 = np.array([1, 2, 3, 4])\n",
    "a2 = np.array([9, -2.7, 5.5, 1.3])\n",
    "\n",
    "# Retrieve third element of \"a1\":\n",
    "b = a1[2]\n",
    "print(\"The third element of a1 is:\", b)\n",
    "# Retrieve first element of \"a2\":\n",
    "b = a2[0]\n",
    "print(\"The third element of a2 is:\", b)"
   ]
  },
  {
   "cell_type": "markdown",
   "id": "ed3d2857-609d-474d-ba5a-cb0cade9bbe6",
   "metadata": {},
   "source": [
    "In the cell above, I:\n",
    "* Created two arrays, \"a1\" and \"a2\" by directly specifying their elements. \n",
    "* Selected the third element of \"a1\" and assigned it to a new variable \"b\".\n",
    "* Print the value of \"b\".\n",
    "* Repeat the process for the first entry of \"a2\".\n",
    "\n",
    "Notice that, for the third element of \"a1\", I used the number (called **index**) 2 in the square brackets. This is because Python arrays are zero-based. This means that the first element has index 0, the second has index 1, the third has index 2 and so forth.\n",
    "\n",
    "This is also the reason why I used the index 0 to retrieve the first elemnt of \"a2\"."
   ]
  },
  {
   "cell_type": "markdown",
   "id": "a3cf628b-cc55-43e8-b1ca-960bea549046",
   "metadata": {},
   "source": [
    "### Exercise 1\n",
    "Now you do it. Create two new arrays named \"a3\" and \"a4\" containing the sequences of numbers [4, 8, 9, 14] and [8.7, -2.4, -7.5], respectivelly.\n",
    "\n",
    "Now retrieve teh following elements from these arrays. Each time, print what element you got in a way similar to what I did above.\n",
    "\n",
    "1) Get the second element of \"a1\"\n",
    "2) Get the element with value 1.3 from \"a2\" (you need to figure out the index to use).\n",
    "3) Get the first element of \"a3\"\n",
    "4) Get the element with value -2.4 from \"a4\" (you need to figure out the index to use)."
   ]
  },
  {
   "cell_type": "code",
   "execution_count": null,
   "id": "77351464-bf51-4ccf-aef5-01cd5d251031",
   "metadata": {},
   "outputs": [],
   "source": [
    "# Code to create two new arrays goes here\n"
   ]
  },
  {
   "cell_type": "code",
   "execution_count": null,
   "id": "ec33a0c7-7557-4860-aa2d-a94d8ccf0805",
   "metadata": {},
   "outputs": [],
   "source": [
    "# Code for exercise 1-1 goes here.\n"
   ]
  },
  {
   "cell_type": "code",
   "execution_count": null,
   "id": "33970dbc-59e4-47b9-a929-a99de369ffc4",
   "metadata": {},
   "outputs": [],
   "source": [
    "# Code for exercise 1-2 goes here.\n"
   ]
  },
  {
   "cell_type": "code",
   "execution_count": null,
   "id": "ef8a6888-d260-4091-954c-7353340938a8",
   "metadata": {},
   "outputs": [],
   "source": [
    "# Code for exercise 1-3 goes here.\n"
   ]
  },
  {
   "cell_type": "code",
   "execution_count": null,
   "id": "f30e9f2e-39df-477a-9226-09f91ee47578",
   "metadata": {},
   "outputs": [],
   "source": [
    "# Code for exercise 1-4 goes here.\n"
   ]
  },
  {
   "cell_type": "markdown",
   "id": "be3aefde-b7c0-46a1-a172-f86afde1ae33",
   "metadata": {},
   "source": [
    "### Reverse index\n",
    "In Python, you can also index elements starting from the end, not the beginning. To do this, you use negative indices. This means the last element has index -1, the second to last has index -2 and so forth. \n",
    "\n",
    "Here is an example where I get the last element of \"a1\" with negative indexing:"
   ]
  },
  {
   "cell_type": "code",
   "execution_count": null,
   "id": "1e8edb2c-d0c0-40ef-9d82-0b295746bd66",
   "metadata": {},
   "outputs": [],
   "source": [
    "b = a1[-1]\n",
    "print(\"The last element of a1 is:\", b)"
   ]
  },
  {
   "cell_type": "markdown",
   "id": "1c0d933f-d9c1-4430-be19-1bc9717a7e9d",
   "metadata": {},
   "source": [
    "### Exercise 2\n",
    "Select the following elements **USING NEGATIVE INDICES**.\n",
    "\n",
    "1) The second-to-last element of \"a2\"\n",
    "2) The third-to-last element of \"a3\"\n",
    "3) The last element of \"a4\""
   ]
  },
  {
   "cell_type": "code",
   "execution_count": null,
   "id": "dd4af2d8-04bf-4ac1-a1da-84078bbb084d",
   "metadata": {},
   "outputs": [],
   "source": [
    "# Code for exercise 2-1 goes here.\n"
   ]
  },
  {
   "cell_type": "code",
   "execution_count": null,
   "id": "30ce79c3-a76b-4ad3-9e8f-2be0b25e9b60",
   "metadata": {},
   "outputs": [],
   "source": [
    "# Code for exercise 2-2 goes here.\n"
   ]
  },
  {
   "cell_type": "code",
   "execution_count": null,
   "id": "e2c3be82-fa26-4ab7-8bcc-6a42779cdc2b",
   "metadata": {},
   "outputs": [],
   "source": [
    "# Code for exercise 2-3 goes here.\n"
   ]
  },
  {
   "cell_type": "markdown",
   "id": "a25bcc5b-4461-46c6-a722-9c578346fef7",
   "metadata": {},
   "source": [
    "### Slicing\n",
    "Selecting individual elements is fine, but most of the time we want to select entire sections of an array. This can be done with slicing. In the example below, I create an array \"a5\" and then take two different *slices* of it:"
   ]
  },
  {
   "cell_type": "code",
   "execution_count": null,
   "id": "48a094bb-dde0-4cef-8ff2-a572691e78e8",
   "metadata": {},
   "outputs": [],
   "source": [
    "a5 = np.array([1,2,5,7,9,13,22,35,72])\n",
    "\n",
    "# Slice first three elements of \"a5\":\n",
    "slice1 = a5[0:3]\n",
    "print(\"The first three elements of a5:\", slice1)\n",
    "\n",
    "# Slice four elements of \"a5\" starting at the third:\n",
    "slice1 = a5[2:6]\n",
    "print(\"four elements of a5, starting at the third:\", slice1)"
   ]
  },
  {
   "cell_type": "markdown",
   "id": "9ae53198-9b2a-421c-9dbc-15153ca0f37e",
   "metadata": {},
   "source": [
    "Here is a description of how the slicing works:\n",
    "* Use the same square bracket as for single-element selection.\n",
    "* Two numbers go in the bracket, the intial index and the final index of the selection (called a *slice*)\n",
    "* The two numbers are sepparated by a colon.\n",
    "* Notice that the starting index is included in the slice, the end index is **NOT**.\n",
    "* In the slice \"a5[2:6]\" the element with index 2 is included but the element with index 6 is not. The last element to be included in the slice is that with index 5 (the sixth element of the array)."
   ]
  },
  {
   "cell_type": "markdown",
   "id": "361c1882-ddbb-40a0-b8be-4b702b9fd3e7",
   "metadata": {},
   "source": [
    "Here are two different ways to select the **last** five elements of \"a5\":"
   ]
  },
  {
   "cell_type": "code",
   "execution_count": null,
   "id": "6fec0651-9e84-4937-953b-d0e86473740a",
   "metadata": {},
   "outputs": [],
   "source": [
    "slice1 = a5[5:9]\n",
    "print(\"Last four elements of a5:\", slice1)\n",
    "\n",
    "slice1 = a5[5:]\n",
    "print(\"Last four elements of a5:\", slice1)"
   ]
  },
  {
   "cell_type": "markdown",
   "id": "19c01e55-5dd8-467b-a6d9-defc95f6a9f8",
   "metadata": {},
   "source": [
    "Notice that, in the first slice, I use index 9 as the **end** limit. Since array \"a5\" only has 9 elements, there is no element with index 9 (they go from 0 to 8). However, if I had 8 as the end-point of the slice, the last element would be ommited, because the last index in the slice is never included. Therefore I needed to use an index higher than the maximum one.\n",
    "\n",
    "An easier and cleaner way to do this is the second slice in the cell above. There, we do not specify the end-point of the slic, but we still leave the colon there. Python assumes the slice goes to the end of the array.\n",
    "\n",
    "An even better way to slelect the last four entries is to use negative indices. Index -4, is the fourth-to-last element, so we can start at this one and slice until the end of the array, like this: "
   ]
  },
  {
   "cell_type": "code",
   "execution_count": null,
   "id": "6733b2dc-f8f2-4eae-a51a-74924b06d4c0",
   "metadata": {},
   "outputs": [],
   "source": [
    "slice1 = a5[-4:]\n",
    "print(\"Last four elements of a5:\", slice1)"
   ]
  },
  {
   "cell_type": "markdown",
   "id": "f19a85d8-ebe1-4eb7-b452-07700437b180",
   "metadata": {},
   "source": [
    "Slicing is especially usefull when we have very large arrays, such as the ones we use to plot functions. Here is an example:"
   ]
  },
  {
   "cell_type": "code",
   "execution_count": null,
   "id": "218de729-99d1-48ae-bb90-c11194a3521d",
   "metadata": {},
   "outputs": [],
   "source": [
    "# Create a time array starting at 2 seconds and ending at 4 seconds with 200 points in between:\n",
    "t = np.linspace(2, 4, 200)\n",
    "# Create a position array with the desired function:\n",
    "x = 4 + 5*t - 2*t**2\n",
    "# Plot the position as a function of time\n",
    "plt.plot(t, x)\n",
    "\n",
    "# Now slice the first 100 points of the arrays\n",
    "t2 = t[0:100]\n",
    "x2 = x[0:100]\n",
    "# Plot the resulting array slice\n",
    "plt.plot(t2, x2)"
   ]
  },
  {
   "cell_type": "markdown",
   "id": "cb476aa0-5395-470a-98c1-9c9b43bb62c1",
   "metadata": {},
   "source": [
    "Let's break down what happens in the code cell above:\n",
    "\n",
    "* Create a time array starting at 2 seconds and ending at 4 seconds with 200 points in between.\n",
    "* Create a position array with the desired function: $x(t) = 4 + 5t - 2t^2$\n",
    "* Plot $x(t)$.\n",
    "* Slice the first 100 points of the arrays. Assign the results of the slicing to new time and position variables \"t2\" and \"x2\".\n",
    "* Plot the resulting sliced arrays.\n",
    "\n",
    "Notice that I needed to slice both the \"t\" and \"x\" arrays. The plot function wouldn't even work if the time and position did not have the same length.\n",
    "\n",
    "Also notice that if you have two calls to the plot function in the same cell, Python makes a single graph with both functions. The first one has the whole arrays and is plotted in blue. The second one has only the first half and is plotted in orange (it overlaops the blue line in the first half)."
   ]
  },
  {
   "cell_type": "markdown",
   "id": "8c0c6030-dd06-4a59-b57c-8ac11192e448",
   "metadata": {},
   "source": [
    "### Exercise 3\n",
    "For each case below, you will do the same as I did above. That is:\n",
    "\n",
    "* Create the time arrays with appropriate range and number of points.\n",
    "* Create the position array from the time arrays for the desired function.\n",
    "* Plot the full arrays for $x(t)$.\n",
    "* SLice the time and position array for the desired ranges.\n",
    "* Plot the resulting sliced arrays in top of the full ones.\n",
    "\n",
    "Here are the cases:\n",
    "\n",
    "#### Problem 3-1 \n",
    "* $t \\in [0, 5]$. Use 100 points.    \n",
    "* $x(t) = 3 - 7t$.\n",
    "* Slice the first 60 points.\n",
    "\n",
    "#### Problem 3-2\n",
    "* $t \\in [-1.9, 1]$. Use 200 points.\n",
    "* $x(t) = 2 - 6 \\sqrt{2 + t}$.\n",
    "* Slice the last 80 points.\n",
    "\n",
    "#### Problem 3-3 \n",
    "* $t \\in [-2, 4]$. Use 200 points.\n",
    "* $x(t) = e^{-\\left( \\frac{t-1.5}{2} \\right)^2}$.\n",
    "* Slice from the 30th to the 140th points.\n",
    "\n",
    "#### Problem 3-4 \n",
    "* $t \\in [0, 12]$. Use 150 points.\n",
    "* $x(t) = 1 - 4 \\cos(-3t)$.\n",
    "* Slice all but the last point.\n",
    "\n",
    "#### Problem 3-5 \n",
    "* $t \\in [0.1, 5]$. Use 50 points.\n",
    "* $x(t) = \\frac{\\sin(3t)}{t}$.\n",
    "* Slice all but the first point."
   ]
  },
  {
   "cell_type": "code",
   "execution_count": null,
   "id": "66e11683-7c4b-438f-95b8-3a29ba8c4ce6",
   "metadata": {},
   "outputs": [],
   "source": [
    "# Code for exercise 3-1 goes here\n"
   ]
  },
  {
   "cell_type": "code",
   "execution_count": null,
   "id": "21866b22-e615-4fb6-8fad-a01555aafc35",
   "metadata": {},
   "outputs": [],
   "source": [
    "# Code for exercise 3-2 goes here\n"
   ]
  },
  {
   "cell_type": "code",
   "execution_count": null,
   "id": "b0508cd2-b6d9-4cd9-8b74-b53d62d5f2b4",
   "metadata": {},
   "outputs": [],
   "source": [
    "# Code for exercise 3-3 goes here\n"
   ]
  },
  {
   "cell_type": "code",
   "execution_count": null,
   "id": "df2a74e0-2158-456e-872a-e449b53e0536",
   "metadata": {},
   "outputs": [],
   "source": [
    "# Code for exercise 3-4 goes here\n"
   ]
  },
  {
   "cell_type": "code",
   "execution_count": null,
   "id": "ea34618c-7ec3-492d-bb04-b9b2005e599b",
   "metadata": {},
   "outputs": [],
   "source": [
    "# Code for exercise 3-5 goes here\n"
   ]
  }
 ],
 "metadata": {
  "kernelspec": {
   "display_name": "Python 3 (ipykernel)",
   "language": "python",
   "name": "python3"
  },
  "language_info": {
   "codemirror_mode": {
    "name": "ipython",
    "version": 3
   },
   "file_extension": ".py",
   "mimetype": "text/x-python",
   "name": "python",
   "nbconvert_exporter": "python",
   "pygments_lexer": "ipython3",
   "version": "3.8.10"
  }
 },
 "nbformat": 4,
 "nbformat_minor": 5
}
