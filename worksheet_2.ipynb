{
 "cells": [
  {
   "cell_type": "markdown",
   "id": "3e9a4bab-fd29-4373-96f1-8d4ac239112a",
   "metadata": {},
   "source": [
    "<img src=\"TRU_Logo_Horizontal_RGB-colour37470.png\" width=600 />\n",
    "<!-- The line above is html code. This line is html comment, it won't affect the output -->\n",
    "\n",
    "# Physics 1150 - Mechanics and Waves\n",
    "## Worksheet 2 - Numerical Derivative"
   ]
  },
  {
   "cell_type": "code",
   "execution_count": null,
   "id": "52e8998b-fb26-46f6-b19a-c2d45803164a",
   "metadata": {},
   "outputs": [],
   "source": [
    "import numpy as np\n",
    "import matplotlib.pyplot as plt"
   ]
  },
  {
   "cell_type": "code",
   "execution_count": null,
   "id": "02d1a5c3-2d69-4628-bccb-f172280cdc77",
   "metadata": {},
   "outputs": [],
   "source": [
    "run starter  # Just setting some plotting parameters."
   ]
  },
  {
   "cell_type": "markdown",
   "id": "a1b2701f-91a8-40b4-ae79-c6c28e4410c8",
   "metadata": {},
   "source": [
    "### Numerical derivative\n",
    "In this worksheet, we are going to learn how to do a simple derivative with a computer.\n",
    "To do this, we need to remember the definition of the derivative:\n",
    "\n",
    "$$\\frac{dx}{dt} = \\lim_{\\Delta t \\to 0} \\frac{\\Delta x}{\\Delta t} $$\n",
    "\n",
    "Simply put: to calculate the derivative, compute the average velocity $\\Delta x / \\Delta t$ them make the interval $\\Delta t$ as small as possible. This is very simple to do with computers.\n",
    "\n",
    "Let's see an example. We start with a simple function: $x(t) = 2t^3 - 3t$. To plot this function, I will create an array of times from $-2$ to $2$ seconds using 200 points:"
   ]
  },
  {
   "cell_type": "code",
   "execution_count": null,
   "id": "a481722a-4d8d-4f4c-b658-171948d6e760",
   "metadata": {},
   "outputs": [],
   "source": [
    "t = np.linspace(-2, 2, 200)\n",
    "x = 2 * t**3 - 4 * t\n",
    "plt.plot(t, x)"
   ]
  },
  {
   "cell_type": "markdown",
   "id": "c20b5ef6-a4f8-4e2c-9df1-74d871a7e256",
   "metadata": {},
   "source": [
    "To calculate $\\Delta x$, we need to calculate the differences between consecutive values of $x$. For example, the first displacement $\\Delta x$ is the second entry (index 1) minus the first entry (index 0) in the $x$ array:\n",
    "\n",
    "$$\\Delta x = x[1] - x[0]$$\n",
    "\n",
    "Similarly for $\\Delta t$:\n",
    "\n",
    "$$\\Delta t = t[1] - t[0]$$\n",
    "\n",
    "If we divide them we get an approximation for the derivative between the first and second points:\n",
    "\n",
    "$$\\frac{dx}{dt} \\approx \\frac{x[1] - x[0]}{t[1] - t[0]}$$\n",
    "\n",
    "That's it! We're done! Except, we have only found the (approximate) derivative between the first two points. We want the derivative for all points! So we would calculate the displacements between third and second entries, and fourth and third, and so on:\n",
    "\n",
    "$$\\frac{x[1] - x[0]}{t[1] - t[0]} \\;\\; , \\;\\; \\frac{x[2] - x[1]}{t[2] - t[1]} \\;\\; , \\;\\; \\frac{x[3] - x[2]}{t[3] - t[2]}, \\quad \\cdots$$\n",
    "\n",
    "Notice that, because our $t$ values are all equaly spaced (that's what the \\textit{linspace} function does), all the denominators in the expression above are the same value. So we can calculate $\\Delta t$ from the first two entries in $t$ and use it throughout:\n",
    "\n",
    "$$\n",
    "\\begin{align}\n",
    "& \\Delta t = t[1] - t[0] \\\\[10pt]\n",
    "& \\frac{x[1] - x[0]}{\\Delta t} \\;\\; , \\;\\; \\frac{x[2] - x[1]}{\\Delta t} \\;\\; , \\;\\; \\frac{x[3] - x[2]}{\\Delta t}, \\quad \\cdots\n",
    "\\end{align}\n",
    "$$\n",
    "\n",
    "For very long arrays, it would be impracticall to calculate all these displacements by hand. Fortunatelly, there is an easy way to get all the displacements into an array using the slicing that we learned in the previous worksheet. To do this, first slice the $x$ array to get all the entries minus the last one: $x[:-1]$. For our example array of 200 entries, this leaves the folowing entries:\n",
    "\n",
    "$$[\\; x[0] \\; , \\; x[1] \\; , \\; x[2] \\; , \\; x[3] \\; , \\; \\cdots \\; , \\; x[196] \\; , \\; x[197] \\; , \\; x[198]]$$\n",
    "\n",
    "Now slice the $x$ array to get all entries but the first one: $x[1:]$. For our example array of 200 entries, this leaves the folowing entries:\n",
    "\n",
    "$$[\\; x[1] \\; , \\; x[2] \\; , \\; x[3] \\; , \\; x[4] \\; , \\; \\cdots \\; , \\; x[197] \\; , \\; x[198] \\; , \\; x[199]]$$\n",
    "\n",
    "So we have two arrays of 199 entries. One starts at the first entry and ends before the last. The other starts at the second entry and goes all the way to the last. The trick is now to subtract the first array from the second, creating an array of length 199 with all displacements in it!\n",
    "\n",
    "$$\n",
    "\\begin{align}\n",
    "[\\; x[1] \\; , \\; x[2] \\; , \\; x[3] \\; , \\; x[4] \\; , \\; \\cdots \\; , \\; x[197] \\; , \\; x[198] \\; , \\; x[199] \\;]& \\\\\n",
    "& - \\textrm{(minus)}\\\\\n",
    "[\\; x[0] \\; , \\; x[1] \\; , \\; x[2] \\; , \\; x[3] \\; , \\; \\cdots \\; , \\; x[196] \\; , \\; x[197] \\; , \\; x[198] \\;]& \\\\[20pt]\n",
    "\\hline \\\\\n",
    "[\\; (x[1] - x[0]) \\; , \\; (x[2] - x[1]) \\; , \\; \\cdots \\; , \\; (x[199] - x[198]) \\;]\n",
    "\\end{align}\n",
    "$$\n",
    "\n",
    "The final step is to divide this array of displacements by $\\Delta t$ obtained from the first two entries in the $t$ array. This is done for our example function in the cell below."
   ]
  },
  {
   "cell_type": "code",
   "execution_count": null,
   "id": "a2378053-0ac3-4efc-bdab-fee759707851",
   "metadata": {},
   "outputs": [],
   "source": [
    "dt = t[1] - t[0]\n",
    "v = (x[1:] - x[:-1])/dt\n",
    "plt.plot(t[:-1], v)\n",
    "\n",
    "exact = 6 * t**2 - 4\n",
    "plt.plot(t[:-1], exact[:-1])"
   ]
  },
  {
   "cell_type": "markdown",
   "id": "906bf911-26f6-42bf-a45e-de11d68252e9",
   "metadata": {},
   "source": [
    "Let's break down what is happening in the cell above.\n",
    "\n",
    "* The first line defines a variable $dt$ and assign to it the difference between the first two elements of $t$.\n",
    "* The second line defines a variable called $v$ (for velocity) and assign to it our approximation for the derivative, as explained above.\n",
    "* Then we plot the derivative against time. Notice we need to remove las entry of $t$. This is because our derivative array only has 199 entries, but $t$ has 200 entries.\n",
    "* By doing this, we are plotting the derivative calculated between $t[0]$ and $t[1]$ at the time $t[0]$. There is an error associated with that, but for small $\\Delta t$ this error is small.\n",
    "* In the last two lines, we calculate the exact value for the derivative using the rules of calculus and plot it.\n",
    "\n",
    "Our approximate derivative is in blue line, the exact one is in orange. You probably can't see the blue one much, because it is under the orange one. This is how good our approximate derivative is! Our approximate method is called a **numerical** derivative because we actually compute it with numbers, as oposed to symbols in traditional calculus (those are sometimes called **symbolic** derivatives). \n",
    "\n",
    "Our numerical derivative is very good, but not exact, since we cannot take the limit of $\\Delta t \\to 0$. In general, the smaller we can make $\\Delta t$ (more points on the $t$ array) the better the approximation of the numerical derivative.\n",
    "\n",
    "To show you the errors between the numerical case and the exact case, I need to reduce the number of points substancially. Here is the same example with only 6 points instead of 200."
   ]
  },
  {
   "cell_type": "code",
   "execution_count": null,
   "id": "e2459825-3c15-4982-b537-117d2173a52b",
   "metadata": {},
   "outputs": [],
   "source": [
    "t = np.linspace(-2, 2, 6)\n",
    "x = 2 * t**3 - 4 * t\n",
    "\n",
    "dt = t[1] - t[0]\n",
    "v = (x[1:] - x[:-1])/dt\n",
    "plt.plot(t[:-1], v)\n",
    "\n",
    "exact = 6 * t**2 - 4\n",
    "plt.plot(t[:-1], exact[:-1])"
   ]
  },
  {
   "cell_type": "markdown",
   "id": "de290213-b00f-4766-902d-28a0413f47c7",
   "metadata": {},
   "source": [
    "Most of the difference between blue (numerical) and orange (exact) derivatives here comes from assigning the derivative to the left end of the time range (that's why they look displaced horizontally), but there is also some error in the value of the derivative (vertical).\n",
    "\n",
    "Now you do a few examples."
   ]
  },
  {
   "cell_type": "markdown",
   "id": "909fa6d1-76cf-4132-8c07-07242b1b10b5",
   "metadata": {
    "tags": []
   },
   "source": [
    "### Exercise 1\n",
    "For each case below, you will do the same as I did above. That is:\n",
    "\n",
    "* Create the time arrays with appropriate range and number of points.\n",
    "* Create the position array from the time arrays for the desired function.\n",
    "* Calculate the numerical derivative (velocity).\n",
    "* Plot the numerical derivative against the (sliced) time.\n",
    "* Create an array with the exact derivative (you need to find the derivative using calculus).\n",
    "* Plot the exact derivative against time (both sliced).\n",
    "\n",
    "Here are the cases:\n",
    "\n",
    "#### Exercise 1-1 \n",
    "* $t \\in [0, 5]$. Use 100 points.    \n",
    "* $x(t) = 3 - 7t^2$.\n",
    "\n",
    "#### Exercise 1-2\n",
    "* $t \\in [-3, 3]$. Use 200 points.    \n",
    "* $x(t) = 5t + 2t^4 - 3t^7$.\n",
    "\n",
    "#### Exercise 1-3\n",
    "* $t \\in [-3, 7]$. Use 150 points.    \n",
    "* $x(t) = -3t + 3t^2 - 8 \\cos(t)$.\n",
    "\n",
    "For every case, you should get the orange line to overlap the blue one, so you can almost not see it.\n",
    "If you don't know how to calculate the derivative of $\\cos(t)$ try searching for it."
   ]
  },
  {
   "cell_type": "code",
   "execution_count": null,
   "id": "a0ab7d5a-7320-4ddd-96aa-d4fd932fced0",
   "metadata": {},
   "outputs": [],
   "source": [
    "# Code for exercise 1-1 goes here\n",
    "\n"
   ]
  },
  {
   "cell_type": "code",
   "execution_count": null,
   "id": "6e28a653-bc87-4399-a7f3-bdac131a18d0",
   "metadata": {},
   "outputs": [],
   "source": [
    "# Code for exercise 1-2 goes here\n",
    "\n"
   ]
  },
  {
   "cell_type": "code",
   "execution_count": null,
   "id": "b4d9fa79-df31-4a25-96e3-e9bf004b1a51",
   "metadata": {},
   "outputs": [],
   "source": [
    "# Code for exercise 1-3 goes here\n",
    "\n"
   ]
  },
  {
   "cell_type": "markdown",
   "id": "3c2a8727-c438-4c94-88f7-ae1a5cf33f06",
   "metadata": {},
   "source": [
    "### Exercise 2\n",
    "Let's do a few more complicated functions.\n",
    "This is exactly like Exercise 1, however, the functions are harder.\n",
    "So I give you the exact derivative function to plot alongside your numerical one.\n",
    "\n",
    "Notice that even though finding the exact derivatives is harder, computing the numerical derivatives is not harder than for the simple functions at all! This is one of the powers of numerical calculations with a computer: complicated motions are treated in the same way as easy ones!\n",
    "\n",
    "Do the following cases:\n",
    "\n",
    "#### Exercise 2-1 \n",
    "* $t \\in [-2, 4]$. Use 200 points.\n",
    "* $x(t) = e^{-\\left( \\frac{t-1.5}{2} \\right)^2}$.\n",
    "* $\\frac{dx}{dt} = -\\left( \\frac{t - 1.5}{2} \\right) e^{-\\left( \\frac{t-1.5}{2} \\right)^2}$.\n",
    "\n",
    "#### Exercise 2-2 \n",
    "* $t \\in [0, 12]$. Use 150 points.\n",
    "* $x(t) = 1 - 4 \\cos(-3t)$.\n",
    "* $\\frac{dx}{dt} = -12 \\sin(-3t)$.\n",
    "\n",
    "#### Exercise 2-3 \n",
    "* $t \\in [0.1, 5]$. Use 100 points.\n",
    "* $x(t) = \\frac{\\sin(3t)}{t}$.\n",
    "* $\\frac{dx}{dt} = \\frac{3 \\cos(3t)}{t} - \\frac{\\sin(3t)}{t^2}$."
   ]
  },
  {
   "cell_type": "code",
   "execution_count": null,
   "id": "5495daee-b5ce-43e8-a321-0afb7874163e",
   "metadata": {},
   "outputs": [],
   "source": [
    "# Code for exercise 2-1 goes here\n",
    "\n"
   ]
  },
  {
   "cell_type": "code",
   "execution_count": null,
   "id": "6664d1b0-945a-41f2-8f86-f47007fdae96",
   "metadata": {},
   "outputs": [],
   "source": [
    "# Code for exercise 2-2 goes here\n",
    "\n"
   ]
  },
  {
   "cell_type": "code",
   "execution_count": null,
   "id": "898a290b-056e-497e-97af-eed4cb72de25",
   "metadata": {},
   "outputs": [],
   "source": [
    "# Code for exercise 2-3 goes here\n",
    "\n"
   ]
  },
  {
   "cell_type": "markdown",
   "id": "9271a605-2e81-42a3-b441-476ecfdef3e6",
   "metadata": {},
   "source": [
    "## Numerical data\n",
    "Complicated functions are not the only thing that is easier to work with in computers (numerically).\n",
    "The real power of working numerically comes when we have to deal with actual data colected in an experiment.\n",
    "To give you an example, I have simulated data for the position of a dragster race car at multiple times.\n",
    "\n",
    "These cars race for 1/4 mile (402.34 m) in a straight line trying to complete the distance in the minimum amount of time.\n",
    "The simulated data is in the files *dragster_t.csv* and *dragster_x.csv*. You can open these files in excel if you are curious. They are each just a column of numbers giving the times and positions measured for the car.\n",
    "\n",
    "To load the data from these files into Python is very simple. Just call the function **np.loadtxt**. In the cell below I load those two files into variables $t$ and $x$ and then I plot them. Notice it takes the dragster about 4.5 seconds to complete the 402 m distance."
   ]
  },
  {
   "cell_type": "code",
   "execution_count": null,
   "id": "8f38ff56-5577-47c0-ad09-97dd4c35c515",
   "metadata": {},
   "outputs": [],
   "source": [
    "t = np.loadtxt(\"dragster_t.csv\")\n",
    "x = np.loadtxt(\"dragster_x.csv\")\n",
    "plt.plot(t, x)"
   ]
  },
  {
   "cell_type": "markdown",
   "id": "59993b46-214c-4866-be2a-3d58a7d5574e",
   "metadata": {},
   "source": [
    "With this data loaded, we can now do some numerical analysis on it. Notice it is not even possible to use regular calculus with these because they are not given by well defined usual mathematical functions. They are (simulated) data points collected by instruments. However, you should have no problems finding the velocity and accelleration of the dragster numerically!"
   ]
  },
  {
   "cell_type": "markdown",
   "id": "d804af3a-a750-419e-890f-1a8a5ab93757",
   "metadata": {
    "tags": []
   },
   "source": [
    "### Exercise 3\n",
    "Using the Dragster race car data loaded above, calculate and plot:\n",
    "\n",
    "#### Exercise 3-1\n",
    "The velocity of the dragster car. This should be exactly like we have done before, however, you can only do the numerical derivative, as there is no way to calculate an exact version. Just by eyeballing the graph you got, what is the maximum speed reached by the dragster? (print your answer).\n",
    "\n",
    "#### Exercise 3-2\n",
    "The acceleration of the dragster car. The acceleration is the second derivative of the position array $x$. It is also the derivative of the velocity array you found in exercise 3-1. Just by eyeballing the graph you got, what is the maximum accelleration reached by the dragster? How many $g$'s (gravity) does it correspond to? (print your answers)."
   ]
  },
  {
   "cell_type": "code",
   "execution_count": null,
   "id": "d910ebe0-5aa2-4896-b81b-06ba9c7c7eb8",
   "metadata": {},
   "outputs": [],
   "source": [
    "# Code for exercise 3-1 goes here\n",
    "\n"
   ]
  },
  {
   "cell_type": "code",
   "execution_count": null,
   "id": "4f8c5edd-3f1d-4f3a-b829-1ee0e3638afb",
   "metadata": {},
   "outputs": [],
   "source": [
    "# Code for exercise 3-2 goes here\n",
    "\n"
   ]
  },
  {
   "cell_type": "code",
   "execution_count": null,
   "id": "a78892b4-a7ec-4cb6-8181-2caf4522f058",
   "metadata": {},
   "outputs": [],
   "source": []
  }
 ],
 "metadata": {
  "kernelspec": {
   "display_name": "Python 3 (ipykernel)",
   "language": "python",
   "name": "python3"
  },
  "language_info": {
   "codemirror_mode": {
    "name": "ipython",
    "version": 3
   },
   "file_extension": ".py",
   "mimetype": "text/x-python",
   "name": "python",
   "nbconvert_exporter": "python",
   "pygments_lexer": "ipython3",
   "version": "3.8.10"
  }
 },
 "nbformat": 4,
 "nbformat_minor": 5
}
