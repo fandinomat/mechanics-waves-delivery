{
 "cells": [
  {
   "cell_type": "markdown",
   "id": "3e9a4bab-fd29-4373-96f1-8d4ac239112a",
   "metadata": {},
   "source": [
    "<img src=\"images/TRU_Logo_Horizontal_RGB-colour37470.png\" width=600 />\n",
    "<!-- The line above is html code. This line is html comment, it won't affect the output -->\n",
    "\n",
    "# Physics 1150 - Mechanics and Waves\n",
    "## Worksheet 0 - Introduction to the Python programming language"
   ]
  },
  {
   "cell_type": "code",
   "execution_count": 1,
   "id": "52e8998b-fb26-46f6-b19a-c2d45803164a",
   "metadata": {},
   "outputs": [],
   "source": [
    "run starter"
   ]
  },
  {
   "cell_type": "markdown",
   "id": "b446910e-d877-447f-9cc0-052e7ebce205",
   "metadata": {},
   "source": [
    "Welcome to Worksheet 0. It is zero because we are not covering any Physics here. The goal is to give you a quick intro to computer programming in Python. Don't worry, you are not expected to have any previous experience with computer programming or Python.\n",
    "\n",
    "We will be using the Python programming language mainly because of its ease of use. If you have never programmed in an older programming language, you might not even realize how lucky you are! 😂 Python is much more intuitive and simple to use than most of what came before. An added bonus is that Python is currently a very popular programming language, being used in everything from AI and data science, to web desing.\n",
    "\n",
    "A file like this is called a notebook and it makes programming in Python even more intuitive and accessible."
   ]
  },
  {
   "cell_type": "markdown",
   "id": "2e9ce2e9-ef06-4199-af87-3cfb182f5964",
   "metadata": {},
   "source": [
    "### Basics\n",
    "The rectangle below is called a **code cell**. You write code in a code cell and then you run the code by clicking on the \"play\" button above while the cell is selected (you can also run the cell by pressing **Shift + Enter**). Try running the cell below. "
   ]
  },
  {
   "cell_type": "code",
   "execution_count": 2,
   "id": "682fca8e-7032-43cb-b880-22992e1d2874",
   "metadata": {},
   "outputs": [
    {
     "name": "stdout",
     "output_type": "stream",
     "text": [
      "12\n"
     ]
    }
   ],
   "source": [
    "# first code cell\n",
    "a = 3\n",
    "b = 4\n",
    "prod = a * b  # a times b\n",
    "print(prod)"
   ]
  },
  {
   "cell_type": "markdown",
   "id": "e3b3ee9e-8286-45ea-a049-00819c7a5373",
   "metadata": {},
   "source": [
    "There is lots happenning in the cell above. Let's break it down.\n",
    "\n",
    "* The first line starts with the character '#' and shows in blue. This is called a *comment*. Comments are ignored when running the code and don't affect the result of the calculation. They are here only to explain the code to the human reader (you). Anything after the character '#' in a line is treated as a comment.\n",
    "* The second line creates a variable called 'a' and assigns the value '3' to this variable. You can call a variable whatever you want (almost). From now on, everytime we write 'a', the code substitutes the value '3'.\n",
    "* The fourth line creates a variable called 'prod' and assigns to it the value of the product of the variables 'a' and 'b'. (It also has a small comment after the code).\n",
    "* The fifth line uses the 'print' function. This function prints whatever is inside the parenthesis. In this case, it prints the value of the variable 'prod'. Is this what you expected?"
   ]
  },
  {
   "cell_type": "markdown",
   "id": "b0966bb0-3f2b-486a-b93c-f30417e37341",
   "metadata": {},
   "source": [
    "### More printing\n",
    "The print function can also be used to print text directly. Anything between quotes is treated as regular text in Python (and is shown in red). The first line in the cell below prints the text \"Hello, World!\".\n",
    "\n",
    "The print function can also print multiple things in a single call. You can place many variables and/or text sepparated by commas inside the parenthesis and it will print all of them. The second line in the cell below prints two things, a text and then the value of the variable 'prod'. This way you can better format outputs.\n",
    "\n",
    "(Notice the value of the variable 'prod', defined in the previous cell is still available here! Code cells pick up where the previous one ended.)\n",
    "\n",
    "Run the cell below to see the results."
   ]
  },
  {
   "cell_type": "code",
   "execution_count": 3,
   "id": "ee0afec3-b277-42c4-8517-3ebb31f23998",
   "metadata": {},
   "outputs": [
    {
     "name": "stdout",
     "output_type": "stream",
     "text": [
      "Hello, World!\n",
      "The product of a and b is:  12\n"
     ]
    }
   ],
   "source": [
    "print(\"Hello, World!\")\n",
    "print(\"The product of a and b is: \", prod)  # Print the text \"b * a = \", then print the value of variable prod"
   ]
  },
  {
   "cell_type": "markdown",
   "id": "06032686-3fab-4515-8769-5505e3ed74fa",
   "metadata": {},
   "source": [
    "### More math operations\n",
    "In the cell below two variables are defined (named 'div' and 'ex') and the values of the division and exponentiation of 'a' and 'b' are assigned to them. The values of these new variables are then printed with some introductory text. (Notice we exponentiate in Python with a double asterik).\n",
    "\n",
    "Run the cell below to see the results."
   ]
  },
  {
   "cell_type": "code",
   "execution_count": 4,
   "id": "8e150e7f-1a5e-46eb-a112-f3e1be576889",
   "metadata": {},
   "outputs": [
    {
     "name": "stdout",
     "output_type": "stream",
     "text": [
      "b/a =  1.3333333333333333\n",
      "b^a =  64\n"
     ]
    }
   ],
   "source": [
    "div = b / a  # b divided by a\n",
    "print(\"b/a = \", div)\n",
    "ex = b**a #  b to the power of a\n",
    "print(\"b^a = \", ex)"
   ]
  },
  {
   "cell_type": "markdown",
   "id": "669c3795-ee92-4a6f-81cf-800b43466286",
   "metadata": {},
   "source": [
    "### Exercise 1\n",
    "Now you do some coding! In the cell below, create two new variables and assign to them the values of the addition and subtraction of 'a' and 'b'. Then print the values of these new variables with some introductory text. It should be very similar to the cell above. The operators used for addition and subtraction should be intuitive.\n",
    "\n",
    "Create a third variable and assign to it the square-root of 'b'. You can achieve this with the 'exponent' operator used above. What power of 'b' do you have to take to get the square-root?"
   ]
  },
  {
   "cell_type": "code",
   "execution_count": 5,
   "id": "969c1612-b7e9-4a72-a5a7-ba5662e48fcc",
   "metadata": {},
   "outputs": [],
   "source": [
    "# Code for exercise 1 goes here\n"
   ]
  },
  {
   "cell_type": "markdown",
   "id": "35b21667-8b88-4963-9516-22e81196384b",
   "metadata": {},
   "source": [
    "### Exercise 2\n",
    "Create a variable and assign to it the value of $\\left( \\frac{b+a}{b} \\right)^{b-a}$. You can use parenthesis as you would in regular math. You should get 1.75. \n",
    "\n",
    "Attention: Do not assign this number to the variable directly! Use Python operators to compute the value from 'a' and 'b'.\n",
    "\n",
    "Print the result with some introductory text (\"The result is: \")."
   ]
  },
  {
   "cell_type": "code",
   "execution_count": 29,
   "id": "893f0eff-ec91-402a-abb4-2ebf49e07d33",
   "metadata": {},
   "outputs": [],
   "source": [
    "# Code for exercise 2 goes here\n"
   ]
  },
  {
   "cell_type": "markdown",
   "id": "e1521087-a0f5-42a7-993f-5a1631563bf7",
   "metadata": {},
   "source": [
    "### Arrays and Plotting: using libraries\n",
    "One of the best things you can easily do with Python is plotting graphs. That is good because this is a Physics class, so there is going to be lots of graphs to plot. But before we do some plotting, we need to learn about arrays. \n",
    "\n",
    "Arrays and plotting are made simple in Python by the use of libraries. Libraries are collections of pre-made code that you can use. The main library we will be using to construct arrays is NumPy, and for graphing we will be using MatPlotLib. First thing we need to import the libraries. Run the cell below."
   ]
  },
  {
   "cell_type": "code",
   "execution_count": 7,
   "id": "c045bbb3-0cf6-4e9b-9a67-6631970f2b02",
   "metadata": {},
   "outputs": [],
   "source": [
    "import numpy as np\n",
    "import matplotlib.pyplot as plt"
   ]
  },
  {
   "cell_type": "markdown",
   "id": "9e16ae3c-b29b-47e2-9327-816d4efa9693",
   "metadata": {},
   "source": [
    "It might seem like nothing happened, but runnig the code above has **loaded** this two libraries, which are now available to us. Functions from the NumPy library will always start with **np**, functions from the PyPlot lybrary will start with **plt** (you don't need to worry about these details for now). Every worksheet from now on will start with a code cell just like the one above, because these two libraries are very important for us."
   ]
  },
  {
   "cell_type": "markdown",
   "id": "3f4bdc52-f0e8-4566-8826-7f4c274469fa",
   "metadata": {},
   "source": [
    "### Arrays\n",
    "Arrays are simply sequences of numbers stored toguether. These are often called *vectors* in other programming languages. They will be usefull to store sequences of points that we can later plot. In the code cell below, I create four variables (called 'a1', 'a2', 'a3' and 'a4') and I assign arrays with different sequences of numbers to them.\n",
    "\n",
    "Notice the sintax to create an array: **np.array([ *sequence of numbers sepparated by commas* ])**"
   ]
  },
  {
   "cell_type": "code",
   "execution_count": 8,
   "id": "9b77496d-7123-486c-8f88-a70ab69a69de",
   "metadata": {},
   "outputs": [],
   "source": [
    "a1 = np.array([1, 2, 3, 4])\n",
    "a2 = np.array([9, -2.7, 5.5, 1.3])\n",
    "a3 = np.array([1, 2, 3])\n",
    "a4 = np.array([7, 6, 5])"
   ]
  },
  {
   "cell_type": "markdown",
   "id": "e7ea4c1b-9722-49ce-8a83-2d61dc299bd8",
   "metadata": {},
   "source": [
    "One of the best things about arrays is that you can perform math opperations with them as if they were simple numbers. Python performs the opperations for each entry of the array. \n",
    "\n",
    "In the cell below I multiply 'a1' by 2 and assign the result to the variable 'res'. Python multiplies each entry by 2. Run the cell and check that the results are correct. (If you haven't yet, you must run the cell above before running the one below)."
   ]
  },
  {
   "cell_type": "code",
   "execution_count": 9,
   "id": "46a1b80c-ee5a-48ed-8234-12cdf7b0a2b9",
   "metadata": {},
   "outputs": [
    {
     "name": "stdout",
     "output_type": "stream",
     "text": [
      "Result of multiplying a1 by 2:  [2 4 6 8]\n"
     ]
    }
   ],
   "source": [
    "res = 2 * a1\n",
    "print(\"Result of multiplying a1 by 2: \", res)"
   ]
  },
  {
   "cell_type": "markdown",
   "id": "150b88ca-a96e-4815-90d8-df19a72a1329",
   "metadata": {},
   "source": [
    "In the cell below, I add the arrays 'a1' and 'a2' and print the result. Run the cell and check that the entries of 'res' correspond to the addition of the respective entries of 'a1' and 'a2'. Does is make sense?"
   ]
  },
  {
   "cell_type": "code",
   "execution_count": 10,
   "id": "b3f0927e-9714-4b63-8191-2c1d7a847216",
   "metadata": {},
   "outputs": [
    {
     "name": "stdout",
     "output_type": "stream",
     "text": [
      "Result of addition of a1 and a2:  [10.  -0.7  8.5  5.3]\n"
     ]
    }
   ],
   "source": [
    "res = a1 + a2\n",
    "print(\"Result of addition of a1 and a2: \", res)"
   ]
  },
  {
   "cell_type": "markdown",
   "id": "9c0ed29c-e1eb-4d72-a280-628d66b8c061",
   "metadata": {},
   "source": [
    "In the cell below, I try to add the arrays 'a1' and 'a3'. But this generates an error. Try it."
   ]
  },
  {
   "cell_type": "code",
   "execution_count": 11,
   "id": "6f8c3384-506d-4385-82bf-722d8991deeb",
   "metadata": {},
   "outputs": [
    {
     "ename": "ValueError",
     "evalue": "operands could not be broadcast together with shapes (4,) (3,) ",
     "output_type": "error",
     "traceback": [
      "\u001b[0;31m---------------------------------------------------------------------------\u001b[0m",
      "\u001b[0;31mValueError\u001b[0m                                Traceback (most recent call last)",
      "\u001b[0;32m/tmp/ipykernel_323/995939916.py\u001b[0m in \u001b[0;36m<module>\u001b[0;34m\u001b[0m\n\u001b[0;32m----> 1\u001b[0;31m \u001b[0mres\u001b[0m \u001b[0;34m=\u001b[0m \u001b[0ma1\u001b[0m \u001b[0;34m+\u001b[0m \u001b[0ma3\u001b[0m\u001b[0;34m\u001b[0m\u001b[0;34m\u001b[0m\u001b[0m\n\u001b[0m",
      "\u001b[0;31mValueError\u001b[0m: operands could not be broadcast together with shapes (4,) (3,) "
     ]
    }
   ],
   "source": [
    "res = a1 + a3"
   ]
  },
  {
   "cell_type": "markdown",
   "id": "0a9d4180-afc0-4316-9078-8f2ea0b0e0f7",
   "metadata": {},
   "source": [
    "The error message gives us a clue to what whent wrong: the 'shapes' of the arrays are not the same! One has 4 entries and the other has 3. There is no way to add arrays of different lengths.\n",
    "\n",
    "You can easilly check the length (or 'shape') of an array with the **len()** function. Here are examples of its use:"
   ]
  },
  {
   "cell_type": "code",
   "execution_count": 12,
   "id": "2779287f-81e8-4a89-8444-750556cf6cc3",
   "metadata": {},
   "outputs": [
    {
     "name": "stdout",
     "output_type": "stream",
     "text": [
      "length of a1:  4\n",
      "length of a3:  3\n"
     ]
    }
   ],
   "source": [
    "l1 = len(a1)\n",
    "print(\"length of a1: \", l1)\n",
    "l3 = len(a3)\n",
    "print(\"length of a3: \", l3)"
   ]
  },
  {
   "cell_type": "markdown",
   "id": "d31a8df4-85fe-47ac-8314-a3ac0de0f522",
   "metadata": {},
   "source": [
    "### Exercise 3\n",
    "Create two new arrays named 'a5' and 'a6' containing the sequences of numbers [4, 7, 9, 13] and [8.2, 3.4, -2.5], respectivelly.\n",
    "\n",
    "Now compute the following array operations. Each time, assign the result to the variable 'res' and print it.\n",
    "\n",
    "1) Multiply 'a5' by 3 then subtract 10\n",
    "2) Divide 'a6' by 1.7 then add 1.2\n",
    "3) Subtract 'a1' from 'a5'\n",
    "4) Multiply 'a4' by 'a6'\n",
    "5) Divide 'a3' by 'a6'\n",
    "6) Elevate 'a2' to the power of 'a5'\n",
    "7) Take the square root of 'a5'\n",
    "\n",
    "For parts 1 and 3, check that the result is what you expected.\n",
    "\n",
    "For part 4, the result should be [ 57.4,  20.4, -12.5]\n",
    "\n",
    "For part 6, the result should be [ 6.56100000e+03, -1.04603532e+03,  4.60536658e+06,  3.02875107e+01]"
   ]
  },
  {
   "cell_type": "code",
   "execution_count": 28,
   "id": "4019906c-6031-40a4-9ca3-9a0282987606",
   "metadata": {},
   "outputs": [],
   "source": [
    "# Code for exercise 3 goes here\n"
   ]
  },
  {
   "cell_type": "markdown",
   "id": "29f48d81-f466-4597-9d72-a96a062915c6",
   "metadata": {},
   "source": [
    "### Plotting\n",
    "Computers cannot graph continuous functions. Instead, we give them sequences of points to plot (arrays). The computer joins the points with straight lines, but this is not too much of a problem if the points are closely spaced.\n",
    "\n",
    "To plot a graph we need to give two arrays. One for the values of the horizontal axis and one for the values of the vertical axis. These arrays need to have the same length.\n",
    "\n",
    "As an example, let's plot the position *x* of a car as a function of time *t*. In the cell below, I create an array for *x* and one for *t*, then I use the **plt.plot()** function to plot them. Notice the order of the arguments in the plot function: first the horizontal axis, then the vertical one, sepparated by comma.\n",
    "\n",
    "Run the cell below."
   ]
  },
  {
   "cell_type": "code",
   "execution_count": 14,
   "id": "0c3092d0-5549-4cfe-8d55-9daa6d2ae1ea",
   "metadata": {},
   "outputs": [
    {
     "data": {
      "text/plain": [
       "[<matplotlib.lines.Line2D at 0x7f47287ea2e0>]"
      ]
     },
     "execution_count": 14,
     "metadata": {},
     "output_type": "execute_result"
    },
    {
     "data": {
      "image/png": "[encoded data removed]",
      "text/plain": [
       "<Figure size 432x288 with 1 Axes>"
      ]
     },
     "metadata": {
      "needs_background": "light"
     },
     "output_type": "display_data"
    }
   ],
   "source": [
    "t = np.array([0, 1, 2, 3, 4])\n",
    "x = np.array([0, 1, 4, 9, 16])\n",
    "plt.plot(t, x)"
   ]
  },
  {
   "cell_type": "markdown",
   "id": "8599e95f-fbb2-4548-8fc4-9c9a32ea7b29",
   "metadata": {},
   "source": [
    "You might have noticed that I chose the values of *x* to correspond to the square of the values of *t*. This would be the case of a car whose position is given by the function: $x(t) = t^2$.\n",
    "\n",
    "If you remeber our previous discussion about arrays, you will know that I didn't have to write all the values for the *x* array. I could just compute them from the *t* array. The code below does this and the resul is exactly the same as above.\n",
    "\n",
    "Run the cell below."
   ]
  },
  {
   "cell_type": "code",
   "execution_count": 15,
   "id": "3e88be3c-0992-4aa4-ac6e-5933ffe36af0",
   "metadata": {},
   "outputs": [
    {
     "data": {
      "text/plain": [
       "[<matplotlib.lines.Line2D at 0x7f47266832e0>]"
      ]
     },
     "execution_count": 15,
     "metadata": {},
     "output_type": "execute_result"
    },
    {
     "data": {
      "image/png": "[encoded data removed]",
      "text/plain": [
       "<Figure size 432x288 with 1 Axes>"
      ]
     },
     "metadata": {
      "needs_background": "light"
     },
     "output_type": "display_data"
    }
   ],
   "source": [
    "t = np.array([0, 1, 2, 3, 4])\n",
    "x = t**2\n",
    "plt.plot(t, x)"
   ]
  },
  {
   "cell_type": "markdown",
   "id": "141f2740-b6d8-40af-b4bb-31f6c32ba263",
   "metadata": {},
   "source": [
    "You will also have noticed that the graph doesn't look like a parabola (or a quadratic), but rather like a series of straight line joined together. This is because we used too few points to represent the motion of the car. \n",
    "\n",
    "We can correct this by keeping the starting and ending times constant (0 to 4) but adding many more points in between. It would be tedious to do this by hand, but luckily, we don't have to, we can use the function **np.linspace()**. This function takes three arguments in order: the start point, the end point and the total length of the array. The function returns an array with those parameters.\n",
    "\n",
    "In the code cell below I create a *t* array in the range 0 to 4, with 100 points in total. Then I print it. Run it to see the result."
   ]
  },
  {
   "cell_type": "code",
   "execution_count": 16,
   "id": "56071971-48ce-4e83-816e-47840b9511ec",
   "metadata": {},
   "outputs": [
    {
     "name": "stdout",
     "output_type": "stream",
     "text": [
      "[0.         0.04040404 0.08080808 0.12121212 0.16161616 0.2020202\n",
      " 0.24242424 0.28282828 0.32323232 0.36363636 0.4040404  0.44444444\n",
      " 0.48484848 0.52525253 0.56565657 0.60606061 0.64646465 0.68686869\n",
      " 0.72727273 0.76767677 0.80808081 0.84848485 0.88888889 0.92929293\n",
      " 0.96969697 1.01010101 1.05050505 1.09090909 1.13131313 1.17171717\n",
      " 1.21212121 1.25252525 1.29292929 1.33333333 1.37373737 1.41414141\n",
      " 1.45454545 1.49494949 1.53535354 1.57575758 1.61616162 1.65656566\n",
      " 1.6969697  1.73737374 1.77777778 1.81818182 1.85858586 1.8989899\n",
      " 1.93939394 1.97979798 2.02020202 2.06060606 2.1010101  2.14141414\n",
      " 2.18181818 2.22222222 2.26262626 2.3030303  2.34343434 2.38383838\n",
      " 2.42424242 2.46464646 2.50505051 2.54545455 2.58585859 2.62626263\n",
      " 2.66666667 2.70707071 2.74747475 2.78787879 2.82828283 2.86868687\n",
      " 2.90909091 2.94949495 2.98989899 3.03030303 3.07070707 3.11111111\n",
      " 3.15151515 3.19191919 3.23232323 3.27272727 3.31313131 3.35353535\n",
      " 3.39393939 3.43434343 3.47474747 3.51515152 3.55555556 3.5959596\n",
      " 3.63636364 3.67676768 3.71717172 3.75757576 3.7979798  3.83838384\n",
      " 3.87878788 3.91919192 3.95959596 4.        ]\n"
     ]
    }
   ],
   "source": [
    "t = np.linspace(0, 4, 100)\n",
    "print(t)"
   ]
  },
  {
   "cell_type": "markdown",
   "id": "1186c0ac-453c-4b4f-9e39-f22c1f39ef06",
   "metadata": {},
   "source": [
    "Printing large arrays like this isn't much fun. But plotting them is!\n",
    "In the cell below I create the same *t* array and the *x* array from it. Then I plot them. See how smooth it looks? The straight lines are gone!\n",
    "\n",
    "Run the cell below to see the result."
   ]
  },
  {
   "cell_type": "code",
   "execution_count": 17,
   "id": "9054e294-e0cd-48a8-9720-c03cf08229e9",
   "metadata": {},
   "outputs": [
    {
     "data": {
      "text/plain": [
       "[<matplotlib.lines.Line2D at 0x7f4726600790>]"
      ]
     },
     "execution_count": 17,
     "metadata": {},
     "output_type": "execute_result"
    },
    {
     "data": {
      "image/png": "[encoded data removed]",
      "text/plain": [
       "<Figure size 432x288 with 1 Axes>"
      ]
     },
     "metadata": {
      "needs_background": "light"
     },
     "output_type": "display_data"
    }
   ],
   "source": [
    "t = np.linspace(0, 4, 100)\n",
    "x = t**2\n",
    "plt.plot(t, x)"
   ]
  },
  {
   "cell_type": "markdown",
   "id": "afa8b945-fe7d-425c-95e9-cbca3a63ba7a",
   "metadata": {},
   "source": [
    "We can do much more than multiplying arrays and "
   ]
  },
  {
   "cell_type": "markdown",
   "id": "7a92ddf6-87a1-465f-90fc-c77342357b0b",
   "metadata": {},
   "source": [
    "### Exercise 4\n",
    "For each case below, create the *t* array using **np.linspace()**. Then create the *x* array from *t* using math operators. Plot the results.\n",
    "\n",
    "The trigonometric function can be generated with **np.cos()** and **np.sin()**. The exponential function is given by **np.exp()**.\n",
    "\n",
    "1) $t \\in [0, 5]$. Use 100 points. $x(t) = 5 + 3t$\n",
    "2) $t \\in [-2, 1]$. Use 200 points. $x(t) = 2 - 6 \\sqrt{2 + t}$\n",
    "3) $t \\in [-2, 4]$. Use 200 points. $x(t) = e^{-\\left( \\frac{t-1.5}{2} \\right)^2}$\n",
    "4) $t \\in [0, 12]$. Use 300 points. $x(t) = 1 + 2 \\cos(2t)$\n",
    "5) $t \\in [0.1, 5]$. Use 150 points. $x(t) = \\frac{\\sin(3t)}{t}$\n",
    "\n",
    "If you think these function look crazy and I am just making stuff up to make your life miserable, think again! Most of these functions show up in real physics aplications!\n",
    "\n",
    "\n",
    "As a guidance, here is what my plot looks like for exercise 4-5:\n",
    "\n",
    "<img src=\"images/ws0_ex4_4.jpg\" width=500 style=\"float:left\"/>"
   ]
  },
  {
   "cell_type": "code",
   "execution_count": 27,
   "id": "869fd612-ae73-44c5-a2b3-c6488fae420e",
   "metadata": {},
   "outputs": [],
   "source": [
    "# Code for exercise 4-1 goes here\n"
   ]
  },
  {
   "cell_type": "code",
   "execution_count": 26,
   "id": "d151ef52-8a3e-4a05-b83f-84c13e2ccd01",
   "metadata": {},
   "outputs": [],
   "source": [
    "# Code for exercise 4-2 goes here\n"
   ]
  },
  {
   "cell_type": "code",
   "execution_count": 25,
   "id": "4a854c77-4c99-4133-9223-f95e5e1e9323",
   "metadata": {},
   "outputs": [],
   "source": [
    "# Code for exercise 4-3 goes here\n"
   ]
  },
  {
   "cell_type": "code",
   "execution_count": 24,
   "id": "2a194c76-af48-45a3-9267-647461963d9d",
   "metadata": {},
   "outputs": [],
   "source": [
    "# Code for exercise 4-4 goes here\n"
   ]
  },
  {
   "cell_type": "code",
   "execution_count": 23,
   "id": "de486293-9e4c-49c7-bb38-1a50a9afbd32",
   "metadata": {},
   "outputs": [],
   "source": [
    "# Code for exercise 4-5 goes here\n"
   ]
  },
  {
   "cell_type": "code",
   "execution_count": null,
   "id": "6e148ae1-a688-4155-8caa-3045043413a3",
   "metadata": {},
   "outputs": [],
   "source": []
  }
 ],
 "metadata": {
  "kernelspec": {
   "display_name": "Python 3 (ipykernel)",
   "language": "python",
   "name": "python3"
  },
  "language_info": {
   "codemirror_mode": {
    "name": "ipython",
    "version": 3
   },
   "file_extension": ".py",
   "mimetype": "text/x-python",
   "name": "python",
   "nbconvert_exporter": "python",
   "pygments_lexer": "ipython3",
   "version": "3.8.10"
  }
 },
 "nbformat": 4,
 "nbformat_minor": 5
}
